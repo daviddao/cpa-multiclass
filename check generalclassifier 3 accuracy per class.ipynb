{
 "cells": [
  {
   "cell_type": "markdown",
   "metadata": {},
   "source": [
    "# Timed runs of stratified 20 fold cross validation accuaracies per class and times of different classifiers (nested 20 by 5 fold cross validation for those with tunable parameters)"
   ]
  },
  {
   "cell_type": "markdown",
   "metadata": {},
   "source": [
    "## AdaBoost"
   ]
  },
  {
   "cell_type": "code",
   "execution_count": 9,
   "metadata": {
    "collapsed": false
   },
   "outputs": [
    {
     "name": "stdout",
     "output_type": "stream",
     "text": [
      "LABEL:  1 halfcircle\n",
      "LABEL:  2 interphase\n",
      "LABEL:  3 metaphase\n",
      "LABEL:  4 earlyprophase\n",
      "LABEL:  5 debris\n",
      "LABEL:  6 nucleolirim\n",
      "LABEL:  7 kidney\n",
      "LABEL:  8 telophase\n",
      "LABEL:  9 blurry\n",
      "LABEL:  10 fragmented\n",
      "LABEL:  11 apoptotic\n",
      "LABEL:  12 multinucleate\n",
      "LABEL:  13 latepro_earlyana\n",
      "LABEL:  14 prophase\n",
      "LABEL:  15 anaphase\n",
      "LABEL:  16 indented\n",
      "LABEL:  17 micronucleus\n",
      "LABEL:  18 holey\n",
      "LABEL:  19 latetelophase\n",
      "LABEL:  20 lines\n",
      "LABEL:  21 monopole\n",
      "LABEL:  22 round\n",
      "LABEL:  23 elongated\n",
      "[ 0.          0.9406346   0.          0.          0.          0.          0.\n",
      "  0.          0.          0.          0.          0.          0.\n",
      "  0.97196262  0.          0.          0.          0.          0.\n",
      "  0.83333333  0.          0.          0.        ]\n",
      "0.119388284602\n",
      "1 loops, best of 1: 5.62 s per loop\n"
     ]
    }
   ],
   "source": [
    "%%timeit -n1 -r1\n",
    "%run /Users/jyhung/Documents/CellProfiler-Analyst/cpa/generalclassifier.py 'ensemble.AdaBoostClassifier(n_estimators=50)' /Users/jyhung/work/projects/subpop/analysis/input/HANDTRAINED-B7/make-input-to-random-forest-training-modified.csv\n",
    "print scorePerClass\n",
    "print scorePerClass.mean()"
   ]
  },
  {
   "cell_type": "code",
   "execution_count": 10,
   "metadata": {
    "collapsed": false,
    "scrolled": true
   },
   "outputs": [
    {
     "name": "stdout",
     "output_type": "stream",
     "text": [
      "LABEL:  1 halfcircle\n",
      "LABEL:  2 interphase\n",
      "LABEL:  3 metaphase\n",
      "LABEL:  4 earlyprophase\n",
      "LABEL:  5 debris\n",
      "LABEL:  6 nucleolirim\n",
      "LABEL:  7 kidney\n",
      "LABEL:  8 telophase\n",
      "LABEL:  9 blurry\n",
      "LABEL:  10 fragmented\n",
      "LABEL:  11 apoptotic\n",
      "LABEL:  12 multinucleate\n",
      "LABEL:  13 latepro_earlyana\n",
      "LABEL:  14 prophase\n",
      "LABEL:  15 anaphase\n",
      "LABEL:  16 indented\n",
      "LABEL:  17 micronucleus\n",
      "LABEL:  18 holey\n",
      "LABEL:  19 latetelophase\n",
      "LABEL:  20 lines\n",
      "LABEL:  21 monopole\n",
      "LABEL:  22 round\n",
      "LABEL:  23 elongated\n",
      "[ 0.08823529  0.87615148  0.67567568  0.12        0.76271186  0.\n",
      "  0.13888889  0.61038961  0.54263566  0.46610169  0.6         0.44186047\n",
      "  0.51515152  0.71028037  0.35714286  0.          0.08064516  0.\n",
      "  0.55072464  0.97619048  0.28571429  0.21428571  0.4       ]\n",
      "0.409251550341\n",
      "1 loops, best of 1: 1min 45s per loop\n"
     ]
    }
   ],
   "source": [
    "%%timeit -n1 -r1\n",
    "%run /Users/jyhung/Documents/CellProfiler-Analyst/cpa/generalclassifier.py 'multiclass.OneVsRestClassifier(ensemble.AdaBoostClassifier(tree.DecisionTreeClassifier(max_depth=1),n_estimators=50))' /Users/jyhung/work/projects/subpop/analysis/input/HANDTRAINED-B7/make-input-to-random-forest-training-modified.csv\n",
    "print scorePerClass\n",
    "print scorePerClass.mean()"
   ]
  },
  {
   "cell_type": "markdown",
   "metadata": {},
   "source": [
    "# Gradient Boosting"
   ]
  },
  {
   "cell_type": "code",
   "execution_count": 11,
   "metadata": {
    "collapsed": false
   },
   "outputs": [
    {
     "name": "stdout",
     "output_type": "stream",
     "text": [
      "LABEL:  1 halfcircle\n",
      "LABEL:  2 interphase\n",
      "LABEL:  3 metaphase\n",
      "LABEL:  4 earlyprophase\n",
      "LABEL:  5 debris\n",
      "LABEL:  6 nucleolirim\n",
      "LABEL:  7 kidney\n",
      "LABEL:  8 telophase\n",
      "LABEL:  9 blurry\n",
      "LABEL:  10 fragmented\n",
      "LABEL:  11 apoptotic\n",
      "LABEL:  12 multinucleate\n",
      "LABEL:  13 latepro_earlyana\n",
      "LABEL:  14 prophase\n",
      "LABEL:  15 anaphase\n",
      "LABEL:  16 indented\n",
      "LABEL:  17 micronucleus\n",
      "LABEL:  18 holey\n",
      "LABEL:  19 latetelophase\n",
      "LABEL:  20 lines\n",
      "LABEL:  21 monopole\n",
      "LABEL:  22 round\n",
      "LABEL:  23 elongated\n",
      "[ 0.08823529  0.90992835  0.56756757  0.04        0.74576271  0.\n",
      "  0.05555556  0.55844156  0.54263566  0.42372881  0.57142857  0.5\n",
      "  0.36363636  0.69158879  0.30952381  0.          0.0483871   0.04878049\n",
      "  0.56521739  0.92857143  0.03571429  0.19047619  0.325     ]\n",
      "0.370007822713\n",
      "1 loops, best of 1: 5min 15s per loop\n"
     ]
    }
   ],
   "source": [
    "%%timeit -n1 -r1 #gradientboost 100\n",
    "%run /Users/jyhung/Documents/CellProfiler-Analyst/cpa/generalclassifier.py ensemble.GradientBoostingClassifier() /Users/jyhung/work/projects/subpop/analysis/input/HANDTRAINED-B7/make-input-to-random-forest-training-modified.csv\n",
    "print scorePerClass\n",
    "print scorePerClass.mean()"
   ]
  },
  {
   "cell_type": "markdown",
   "metadata": {},
   "source": [
    "# SVM"
   ]
  },
  {
   "cell_type": "code",
   "execution_count": 12,
   "metadata": {
    "collapsed": false
   },
   "outputs": [
    {
     "name": "stdout",
     "output_type": "stream",
     "text": [
      "LABEL:  1 halfcircle\n",
      "LABEL:  2 interphase\n",
      "LABEL:  3 metaphase\n",
      "LABEL:  4 earlyprophase\n",
      "LABEL:  5 debris\n",
      "LABEL:  6 nucleolirim\n",
      "LABEL:  7 kidney\n",
      "LABEL:  8 telophase\n",
      "LABEL:  9 blurry\n",
      "LABEL:  10 fragmented\n",
      "LABEL:  11 apoptotic\n",
      "LABEL:  12 multinucleate\n",
      "LABEL:  13 latepro_earlyana\n",
      "LABEL:  14 prophase\n",
      "LABEL:  15 anaphase\n",
      "LABEL:  16 indented\n",
      "LABEL:  17 micronucleus\n",
      "LABEL:  18 holey\n",
      "LABEL:  19 latetelophase\n",
      "LABEL:  20 lines\n",
      "LABEL:  21 monopole\n",
      "LABEL:  22 round\n",
      "LABEL:  23 elongated\n",
      "[ 0.05882353  0.93142272  0.72972973  0.12        0.71186441  0.\n",
      "  0.27777778  0.61038961  0.55813953  0.48305085  0.58571429  0.54651163\n",
      "  0.45454545  0.82242991  0.35714286  0.          0.01612903  0.04878049\n",
      "  0.53623188  1.          0.5         0.17857143  0.525     ]\n",
      "0.437054570591\n",
      "1 loops, best of 1: 11min 4s per loop\n"
     ]
    },
    {
     "name": "stderr",
     "output_type": "stream",
     "text": [
      "/Users/jyhung/anaconda/lib/python2.7/site-packages/sklearn/grid_search.py:505: UserWarning: Multiprocessing-backed parallel loops cannot be nested, setting n_jobs=1\n",
      "  for parameters in parameter_iterable\n",
      "/Users/jyhung/anaconda/lib/python2.7/site-packages/sklearn/grid_search.py:505: UserWarning: Multiprocessing-backed parallel loops cannot be nested, setting n_jobs=1\n",
      "  for parameters in parameter_iterable\n",
      "/Users/jyhung/anaconda/lib/python2.7/site-packages/sklearn/grid_search.py:505: UserWarning: Multiprocessing-backed parallel loops cannot be nested, setting n_jobs=1\n",
      "  for parameters in parameter_iterable\n",
      "/Users/jyhung/anaconda/lib/python2.7/site-packages/sklearn/grid_search.py:505: UserWarning: Multiprocessing-backed parallel loops cannot be nested, setting n_jobs=1\n",
      "  for parameters in parameter_iterable\n",
      "/Users/jyhung/anaconda/lib/python2.7/site-packages/sklearn/grid_search.py:505: UserWarning: Multiprocessing-backed parallel loops cannot be nested, setting n_jobs=1\n",
      "  for parameters in parameter_iterable\n",
      "/Users/jyhung/anaconda/lib/python2.7/site-packages/sklearn/grid_search.py:505: UserWarning: Multiprocessing-backed parallel loops cannot be nested, setting n_jobs=1\n",
      "  for parameters in parameter_iterable\n",
      "/Users/jyhung/anaconda/lib/python2.7/site-packages/sklearn/grid_search.py:505: UserWarning: Multiprocessing-backed parallel loops cannot be nested, setting n_jobs=1\n",
      "  for parameters in parameter_iterable\n",
      "/Users/jyhung/anaconda/lib/python2.7/site-packages/sklearn/grid_search.py:505: UserWarning: Multiprocessing-backed parallel loops cannot be nested, setting n_jobs=1\n",
      "  for parameters in parameter_iterable\n"
     ]
    }
   ],
   "source": [
    "%%timeit -n1 -r1 #1 vs all linear svm\n",
    "%run /Users/jyhung/Documents/CellProfiler-Analyst/cpa/generalclassifier.py \"grid_search.GridSearchCV(svm.LinearSVC(),param_grid={'C': [2**-5, 2**-4, 2**-3, 2**-2, 2**-1, 2**0, 2**1, 2**2, 2**3, 2**4, 2**5, 2**6]},cv=5,n_jobs=-1)\" /Users/jyhung/work/projects/subpop/analysis/input/HANDTRAINED-B7/make-input-to-random-forest-training-modified.csv\n",
    "print scorePerClass\n",
    "print scorePerClass.mean()"
   ]
  },
  {
   "cell_type": "code",
   "execution_count": 13,
   "metadata": {
    "collapsed": false
   },
   "outputs": [
    {
     "name": "stdout",
     "output_type": "stream",
     "text": [
      "LABEL:  1 halfcircle\n",
      "LABEL:  2 interphase\n",
      "LABEL:  3 metaphase\n",
      "LABEL:  4 earlyprophase\n",
      "LABEL:  5 debris\n",
      "LABEL:  6 nucleolirim\n",
      "LABEL:  7 kidney\n",
      "LABEL:  8 telophase\n",
      "LABEL:  9 blurry\n",
      "LABEL:  10 fragmented\n",
      "LABEL:  11 apoptotic\n",
      "LABEL:  12 multinucleate\n",
      "LABEL:  13 latepro_earlyana\n",
      "LABEL:  14 prophase\n",
      "LABEL:  15 anaphase\n",
      "LABEL:  16 indented\n",
      "LABEL:  17 micronucleus\n",
      "LABEL:  18 holey\n",
      "LABEL:  19 latetelophase\n",
      "LABEL:  20 lines\n",
      "LABEL:  21 monopole\n",
      "LABEL:  22 round\n",
      "LABEL:  23 elongated\n",
      "[ 0.29411765  0.56806551  0.78378378  0.52        0.76271186  0.12765957\n",
      "  0.36111111  0.57142857  0.52713178  0.38135593  0.48571429  0.55813953\n",
      "  0.45454545  0.62616822  0.47619048  0.075       0.11290323  0.26829268\n",
      "  0.55072464  0.97619048  0.60714286  0.61904762  0.75      ]\n",
      "0.498148923847\n",
      "1 loops, best of 1: 10min 44s per loop\n"
     ]
    },
    {
     "name": "stderr",
     "output_type": "stream",
     "text": [
      "/Users/jyhung/anaconda/lib/python2.7/site-packages/sklearn/grid_search.py:505: UserWarning: Multiprocessing-backed parallel loops cannot be nested, setting n_jobs=1\n",
      "  for parameters in parameter_iterable\n",
      "/Users/jyhung/anaconda/lib/python2.7/site-packages/sklearn/grid_search.py:505: UserWarning: Multiprocessing-backed parallel loops cannot be nested, setting n_jobs=1\n",
      "  for parameters in parameter_iterable\n",
      "/Users/jyhung/anaconda/lib/python2.7/site-packages/sklearn/grid_search.py:505: UserWarning: Multiprocessing-backed parallel loops cannot be nested, setting n_jobs=1\n",
      "  for parameters in parameter_iterable\n",
      "/Users/jyhung/anaconda/lib/python2.7/site-packages/sklearn/grid_search.py:505: UserWarning: Multiprocessing-backed parallel loops cannot be nested, setting n_jobs=1\n",
      "  for parameters in parameter_iterable\n",
      "/Users/jyhung/anaconda/lib/python2.7/site-packages/sklearn/grid_search.py:505: UserWarning: Multiprocessing-backed parallel loops cannot be nested, setting n_jobs=1\n",
      "  for parameters in parameter_iterable\n",
      "/Users/jyhung/anaconda/lib/python2.7/site-packages/sklearn/grid_search.py:505: UserWarning: Multiprocessing-backed parallel loops cannot be nested, setting n_jobs=1\n",
      "  for parameters in parameter_iterable\n",
      "/Users/jyhung/anaconda/lib/python2.7/site-packages/sklearn/grid_search.py:505: UserWarning: Multiprocessing-backed parallel loops cannot be nested, setting n_jobs=1\n",
      "  for parameters in parameter_iterable\n",
      "/Users/jyhung/anaconda/lib/python2.7/site-packages/sklearn/grid_search.py:505: UserWarning: Multiprocessing-backed parallel loops cannot be nested, setting n_jobs=1\n",
      "  for parameters in parameter_iterable\n"
     ]
    }
   ],
   "source": [
    "%%timeit -n1 -r1 #1 vs all linear svm, auto weights \n",
    "%run /Users/jyhung/Documents/CellProfiler-Analyst/cpa/generalclassifier.py \"grid_search.GridSearchCV(svm.LinearSVC(penalty='l2', class_weight='auto'),param_grid={'C': [2**-5, 2**-4, 2**-3, 2**-2, 2**-1, 2**0, 2**1, 2**2, 2**3, 2**4, 2**5, 2**6]},cv=5,n_jobs=-1)\" /Users/jyhung/work/projects/subpop/analysis/input/HANDTRAINED-B7/make-input-to-random-forest-training-modified.csv\n",
    "print scorePerClass\n",
    "print scorePerClass.mean()"
   ]
  },
  {
   "cell_type": "code",
   "execution_count": 44,
   "metadata": {
    "collapsed": false
   },
   "outputs": [
    {
     "name": "stdout",
     "output_type": "stream",
     "text": [
      "LABEL:  1 halfcircle\n",
      "LABEL:  2 interphase\n",
      "LABEL:  3 metaphase\n",
      "LABEL:  4 earlyprophase\n",
      "LABEL:  5 debris\n",
      "LABEL:  6 nucleolirim\n",
      "LABEL:  7 kidney\n",
      "LABEL:  8 telophase\n",
      "LABEL:  9 blurry\n",
      "LABEL:  10 fragmented\n",
      "LABEL:  11 apoptotic\n",
      "LABEL:  12 multinucleate\n",
      "LABEL:  13 latepro_earlyana\n",
      "LABEL:  14 prophase\n",
      "LABEL:  15 anaphase\n",
      "LABEL:  16 indented\n",
      "LABEL:  17 micronucleus\n",
      "LABEL:  18 holey\n",
      "LABEL:  19 latetelophase\n",
      "LABEL:  20 lines\n",
      "LABEL:  21 monopole\n",
      "LABEL:  22 round\n",
      "LABEL:  23 elongated\n",
      "[ 0.41176471  0.34390993  0.75675676  0.48        0.76271186  0.42553191\n",
      "  0.41666667  0.58441558  0.5503876   0.39830508  0.51428571  0.58139535\n",
      "  0.54545455  0.6728972   0.57142857  0.2         0.20967742  0.3902439\n",
      "  0.60869565  0.97619048  0.60714286  0.66666667  0.55      ]\n",
      "0.531501237098\n",
      "1 loops, best of 1: 43min 43s per loop\n"
     ]
    },
    {
     "name": "stderr",
     "output_type": "stream",
     "text": [
      "/Users/jyhung/anaconda/lib/python2.7/site-packages/sklearn/grid_search.py:505: UserWarning: Multiprocessing-backed parallel loops cannot be nested, setting n_jobs=1\n",
      "  for parameters in parameter_iterable\n",
      "/Users/jyhung/anaconda/lib/python2.7/site-packages/sklearn/grid_search.py:505: UserWarning: Multiprocessing-backed parallel loops cannot be nested, setting n_jobs=1\n",
      "  for parameters in parameter_iterable\n",
      "/Users/jyhung/anaconda/lib/python2.7/site-packages/sklearn/grid_search.py:505: UserWarning: Multiprocessing-backed parallel loops cannot be nested, setting n_jobs=1\n",
      "  for parameters in parameter_iterable\n",
      "/Users/jyhung/anaconda/lib/python2.7/site-packages/sklearn/grid_search.py:505: UserWarning: Multiprocessing-backed parallel loops cannot be nested, setting n_jobs=1\n",
      "  for parameters in parameter_iterable\n",
      "/Users/jyhung/anaconda/lib/python2.7/site-packages/sklearn/grid_search.py:505: UserWarning: Multiprocessing-backed parallel loops cannot be nested, setting n_jobs=1\n",
      "  for parameters in parameter_iterable\n",
      "/Users/jyhung/anaconda/lib/python2.7/site-packages/sklearn/grid_search.py:505: UserWarning: Multiprocessing-backed parallel loops cannot be nested, setting n_jobs=1\n",
      "  for parameters in parameter_iterable\n",
      "/Users/jyhung/anaconda/lib/python2.7/site-packages/sklearn/grid_search.py:505: UserWarning: Multiprocessing-backed parallel loops cannot be nested, setting n_jobs=1\n",
      "  for parameters in parameter_iterable\n",
      "/Users/jyhung/anaconda/lib/python2.7/site-packages/sklearn/grid_search.py:505: UserWarning: Multiprocessing-backed parallel loops cannot be nested, setting n_jobs=1\n",
      "  for parameters in parameter_iterable\n"
     ]
    }
   ],
   "source": [
    "%%timeit -n1 -r1 #1 vs all linear svm, l1 penalty, auto weights \n",
    "%run /Users/jyhung/Documents/CellProfiler-Analyst/cpa/generalclassifier.py \"grid_search.GridSearchCV(svm.LinearSVC(penalty='l1',dual=False, class_weight='auto'),param_grid={'C': [2**-5, 2**-4, 2**-3, 2**-2, 2**-1, 2**0, 2**1, 2**2, 2**3, 2**4, 2**5, 2**6]},cv=5,n_jobs=-1)\" /Users/jyhung/work/projects/subpop/analysis/input/HANDTRAINED-B7/make-input-to-random-forest-training-modified.csv\n",
    "print scorePerClass\n",
    "print scorePerClass.mean()"
   ]
  },
  {
   "cell_type": "code",
   "execution_count": 14,
   "metadata": {
    "collapsed": false
   },
   "outputs": [
    {
     "name": "stdout",
     "output_type": "stream",
     "text": [
      "LABEL:  1 halfcircle\n",
      "LABEL:  2 interphase\n",
      "LABEL:  3 metaphase\n",
      "LABEL:  4 earlyprophase\n",
      "LABEL:  5 debris\n",
      "LABEL:  6 nucleolirim\n",
      "LABEL:  7 kidney\n",
      "LABEL:  8 telophase\n",
      "LABEL:  9 blurry\n",
      "LABEL:  10 fragmented\n",
      "LABEL:  11 apoptotic\n",
      "LABEL:  12 multinucleate\n",
      "LABEL:  13 latepro_earlyana\n",
      "LABEL:  14 prophase\n",
      "LABEL:  15 anaphase\n",
      "LABEL:  16 indented\n",
      "LABEL:  17 micronucleus\n",
      "LABEL:  18 holey\n",
      "LABEL:  19 latetelophase\n",
      "LABEL:  20 lines\n",
      "LABEL:  21 monopole\n",
      "LABEL:  22 round\n",
      "LABEL:  23 elongated\n",
      "[ 0.05882353  0.93654043  0.75675676  0.36        0.81355932  0.\n",
      "  0.22222222  0.62337662  0.50387597  0.48305085  0.51428571  0.52325581\n",
      "  0.45454545  0.70093458  0.4047619   0.          0.          0.02439024\n",
      "  0.5942029   1.          0.39285714  0.17857143  0.375     ]\n",
      "0.431348299174\n",
      "1 loops, best of 1: 11min 39s per loop\n"
     ]
    },
    {
     "name": "stderr",
     "output_type": "stream",
     "text": [
      "/Users/jyhung/anaconda/lib/python2.7/site-packages/sklearn/grid_search.py:505: UserWarning: Multiprocessing-backed parallel loops cannot be nested, setting n_jobs=1\n",
      "  for parameters in parameter_iterable\n",
      "/Users/jyhung/anaconda/lib/python2.7/site-packages/sklearn/grid_search.py:505: UserWarning: Multiprocessing-backed parallel loops cannot be nested, setting n_jobs=1\n",
      "  for parameters in parameter_iterable\n",
      "/Users/jyhung/anaconda/lib/python2.7/site-packages/sklearn/grid_search.py:505: UserWarning: Multiprocessing-backed parallel loops cannot be nested, setting n_jobs=1\n",
      "  for parameters in parameter_iterable\n",
      "/Users/jyhung/anaconda/lib/python2.7/site-packages/sklearn/grid_search.py:505: UserWarning: Multiprocessing-backed parallel loops cannot be nested, setting n_jobs=1\n",
      "  for parameters in parameter_iterable\n",
      "/Users/jyhung/anaconda/lib/python2.7/site-packages/sklearn/grid_search.py:505: UserWarning: Multiprocessing-backed parallel loops cannot be nested, setting n_jobs=1\n",
      "  for parameters in parameter_iterable\n",
      "/Users/jyhung/anaconda/lib/python2.7/site-packages/sklearn/grid_search.py:505: UserWarning: Multiprocessing-backed parallel loops cannot be nested, setting n_jobs=1\n",
      "  for parameters in parameter_iterable\n",
      "/Users/jyhung/anaconda/lib/python2.7/site-packages/sklearn/grid_search.py:505: UserWarning: Multiprocessing-backed parallel loops cannot be nested, setting n_jobs=1\n",
      "  for parameters in parameter_iterable\n",
      "/Users/jyhung/anaconda/lib/python2.7/site-packages/sklearn/grid_search.py:505: UserWarning: Multiprocessing-backed parallel loops cannot be nested, setting n_jobs=1\n",
      "  for parameters in parameter_iterable\n"
     ]
    }
   ],
   "source": [
    "%%timeit -n1 -r1 #1 vs 1 linear svm\n",
    "%run /Users/jyhung/Documents/CellProfiler-Analyst/cpa/generalclassifier.py \"grid_search.GridSearchCV(svm.SVC(kernel='linear'),param_grid={'C': [2**-5, 2**-4, 2**-3, 2**-2, 2**-1, 2**0, 2**1, 2**2, 2**3, 2**4, 2**5, 2**6]},cv=5,n_jobs=-1)\" /Users/jyhung/work/projects/subpop/analysis/input/HANDTRAINED-B7/make-input-to-random-forest-training-modified.csv\n",
    "print scorePerClass\n",
    "print scorePerClass.mean()"
   ]
  },
  {
   "cell_type": "code",
   "execution_count": 15,
   "metadata": {
    "collapsed": false
   },
   "outputs": [
    {
     "name": "stdout",
     "output_type": "stream",
     "text": [
      "LABEL:  1 halfcircle\n",
      "LABEL:  2 interphase\n",
      "LABEL:  3 metaphase\n",
      "LABEL:  4 earlyprophase\n",
      "LABEL:  5 debris\n",
      "LABEL:  6 nucleolirim\n",
      "LABEL:  7 kidney\n",
      "LABEL:  8 telophase\n",
      "LABEL:  9 blurry\n",
      "LABEL:  10 fragmented\n",
      "LABEL:  11 apoptotic\n",
      "LABEL:  12 multinucleate\n",
      "LABEL:  13 latepro_earlyana\n",
      "LABEL:  14 prophase\n",
      "LABEL:  15 anaphase\n",
      "LABEL:  16 indented\n",
      "LABEL:  17 micronucleus\n",
      "LABEL:  18 holey\n",
      "LABEL:  19 latetelophase\n",
      "LABEL:  20 lines\n",
      "LABEL:  21 monopole\n",
      "LABEL:  22 round\n",
      "LABEL:  23 elongated\n",
      "[ 0.          0.9877175   0.          0.          0.          0.          0.\n",
      "  0.02597403  0.          0.          0.          0.01162791  0.\n",
      "  0.03738318  0.          0.          0.          0.          0.01449275\n",
      "  0.          0.          0.07142857  0.        ]\n",
      "0.0499401712231\n",
      "1 loops, best of 1: 39min 31s per loop\n"
     ]
    },
    {
     "name": "stderr",
     "output_type": "stream",
     "text": [
      "/Users/jyhung/anaconda/lib/python2.7/site-packages/sklearn/grid_search.py:505: UserWarning: Multiprocessing-backed parallel loops cannot be nested, setting n_jobs=1\n",
      "  for parameters in parameter_iterable\n",
      "/Users/jyhung/anaconda/lib/python2.7/site-packages/sklearn/grid_search.py:505: UserWarning: Multiprocessing-backed parallel loops cannot be nested, setting n_jobs=1\n",
      "  for parameters in parameter_iterable\n",
      "/Users/jyhung/anaconda/lib/python2.7/site-packages/sklearn/grid_search.py:505: UserWarning: Multiprocessing-backed parallel loops cannot be nested, setting n_jobs=1\n",
      "  for parameters in parameter_iterable\n",
      "/Users/jyhung/anaconda/lib/python2.7/site-packages/sklearn/grid_search.py:505: UserWarning: Multiprocessing-backed parallel loops cannot be nested, setting n_jobs=1\n",
      "  for parameters in parameter_iterable\n",
      "/Users/jyhung/anaconda/lib/python2.7/site-packages/sklearn/grid_search.py:505: UserWarning: Multiprocessing-backed parallel loops cannot be nested, setting n_jobs=1\n",
      "  for parameters in parameter_iterable\n",
      "/Users/jyhung/anaconda/lib/python2.7/site-packages/sklearn/grid_search.py:505: UserWarning: Multiprocessing-backed parallel loops cannot be nested, setting n_jobs=1\n",
      "  for parameters in parameter_iterable\n",
      "/Users/jyhung/anaconda/lib/python2.7/site-packages/sklearn/grid_search.py:505: UserWarning: Multiprocessing-backed parallel loops cannot be nested, setting n_jobs=1\n",
      "  for parameters in parameter_iterable\n",
      "/Users/jyhung/anaconda/lib/python2.7/site-packages/sklearn/grid_search.py:505: UserWarning: Multiprocessing-backed parallel loops cannot be nested, setting n_jobs=1\n",
      "  for parameters in parameter_iterable\n"
     ]
    }
   ],
   "source": [
    "%%timeit -n1 -r1 #svm rbf\n",
    "%run /Users/jyhung/Documents/CellProfiler-Analyst/cpa/generalclassifier.py \"grid_search.GridSearchCV(svm.SVC(),param_grid={'gamma': [2**-5, 2**-4, 2**-3, 2**-2, 2**-1, 2**0, 2**1], 'C': [2**-1, 2**0, 2**1, 2**2, 2**3, 2**4, 2**5, 2**6]},cv=5,n_jobs=-1)\" /Users/jyhung/work/projects/subpop/analysis/input/HANDTRAINED-B7/make-input-to-random-forest-training-modified.csv\n",
    "print scorePerClass\n",
    "print scorePerClass.mean()"
   ]
  },
  {
   "cell_type": "code",
   "execution_count": 23,
   "metadata": {
    "collapsed": false
   },
   "outputs": [
    {
     "name": "stdout",
     "output_type": "stream",
     "text": [
      "LABEL:  1 halfcircle\n",
      "LABEL:  2 interphase\n",
      "LABEL:  3 metaphase\n",
      "LABEL:  4 earlyprophase\n",
      "LABEL:  5 debris\n",
      "LABEL:  6 nucleolirim\n",
      "LABEL:  7 kidney\n",
      "LABEL:  8 telophase\n",
      "LABEL:  9 blurry\n",
      "LABEL:  10 fragmented\n",
      "LABEL:  11 apoptotic\n",
      "LABEL:  12 multinucleate\n",
      "LABEL:  13 latepro_earlyana\n",
      "LABEL:  14 prophase\n",
      "LABEL:  15 anaphase\n",
      "LABEL:  16 indented\n",
      "LABEL:  17 micronucleus\n",
      "LABEL:  18 holey\n",
      "LABEL:  19 latetelophase\n",
      "LABEL:  20 lines\n",
      "LABEL:  21 monopole\n",
      "LABEL:  22 round\n",
      "LABEL:  23 elongated\n",
      "[ 0.          0.93551689  0.          0.          0.          0.          0.\n",
      "  0.05194805  0.05426357  0.05084746  0.          0.08139535  0.\n",
      "  0.22429907  0.          0.          0.0483871   0.          0.01449275\n",
      "  0.          0.          0.42857143  0.        ]\n",
      "0.0821618111794\n",
      "1 loops, best of 1: 39min 41s per loop\n"
     ]
    },
    {
     "name": "stderr",
     "output_type": "stream",
     "text": [
      "/Users/jyhung/anaconda/lib/python2.7/site-packages/sklearn/grid_search.py:505: UserWarning: Multiprocessing-backed parallel loops cannot be nested, setting n_jobs=1\n",
      "  for parameters in parameter_iterable\n",
      "/Users/jyhung/anaconda/lib/python2.7/site-packages/sklearn/grid_search.py:505: UserWarning: Multiprocessing-backed parallel loops cannot be nested, setting n_jobs=1\n",
      "  for parameters in parameter_iterable\n",
      "/Users/jyhung/anaconda/lib/python2.7/site-packages/sklearn/grid_search.py:505: UserWarning: Multiprocessing-backed parallel loops cannot be nested, setting n_jobs=1\n",
      "  for parameters in parameter_iterable\n",
      "/Users/jyhung/anaconda/lib/python2.7/site-packages/sklearn/grid_search.py:505: UserWarning: Multiprocessing-backed parallel loops cannot be nested, setting n_jobs=1\n",
      "  for parameters in parameter_iterable\n",
      "/Users/jyhung/anaconda/lib/python2.7/site-packages/sklearn/grid_search.py:505: UserWarning: Multiprocessing-backed parallel loops cannot be nested, setting n_jobs=1\n",
      "  for parameters in parameter_iterable\n",
      "/Users/jyhung/anaconda/lib/python2.7/site-packages/sklearn/grid_search.py:505: UserWarning: Multiprocessing-backed parallel loops cannot be nested, setting n_jobs=1\n",
      "  for parameters in parameter_iterable\n",
      "/Users/jyhung/anaconda/lib/python2.7/site-packages/sklearn/grid_search.py:505: UserWarning: Multiprocessing-backed parallel loops cannot be nested, setting n_jobs=1\n",
      "  for parameters in parameter_iterable\n",
      "/Users/jyhung/anaconda/lib/python2.7/site-packages/sklearn/grid_search.py:505: UserWarning: Multiprocessing-backed parallel loops cannot be nested, setting n_jobs=1\n",
      "  for parameters in parameter_iterable\n"
     ]
    }
   ],
   "source": [
    "%%timeit -n1 -r1 #svm rbf class weight auto\n",
    "%run /Users/jyhung/Documents/CellProfiler-Analyst/cpa/generalclassifier.py \"grid_search.GridSearchCV(svm.SVC(class_weight='auto'),param_grid={'gamma': [2**-5, 2**-4, 2**-3, 2**-2, 2**-1, 2**0, 2**1], 'C': [2**-1, 2**0, 2**1, 2**2, 2**3, 2**4, 2**5, 2**6]},cv=5,n_jobs=-1)\" /Users/jyhung/work/projects/subpop/analysis/input/HANDTRAINED-B7/make-input-to-random-forest-training-modified.csv\n",
    "print scorePerClass\n",
    "print scorePerClass.mean()"
   ]
  },
  {
   "cell_type": "markdown",
   "metadata": {},
   "source": [
    "# LDA"
   ]
  },
  {
   "cell_type": "code",
   "execution_count": 16,
   "metadata": {
    "collapsed": false
   },
   "outputs": [
    {
     "name": "stdout",
     "output_type": "stream",
     "text": [
      "LABEL:  1 halfcircle\n",
      "LABEL:  2 interphase\n",
      "LABEL:  3 metaphase\n",
      "LABEL:  4 earlyprophase\n",
      "LABEL:  5 debris\n",
      "LABEL:  6 nucleolirim\n",
      "LABEL:  7 kidney\n",
      "LABEL:  8 telophase\n",
      "LABEL:  9 blurry\n",
      "LABEL:  10 fragmented\n",
      "LABEL:  11 apoptotic\n",
      "LABEL:  12 multinucleate\n",
      "LABEL:  13 latepro_earlyana\n",
      "LABEL:  14 prophase\n",
      "LABEL:  15 anaphase\n",
      "LABEL:  16 indented\n",
      "LABEL:  17 micronucleus\n",
      "LABEL:  18 holey\n",
      "LABEL:  19 latetelophase\n",
      "LABEL:  20 lines\n",
      "LABEL:  21 monopole\n",
      "LABEL:  22 round\n",
      "LABEL:  23 elongated\n",
      "[ 0.29411765  0.84544524  0.59459459  0.4         0.66101695  0.0212766\n",
      "  0.36111111  0.63636364  0.55813953  0.38983051  0.38571429  0.55813953\n",
      "  0.57575758  0.69158879  0.5         0.025       0.08064516  0.19512195\n",
      "  0.72463768  0.97619048  0.60714286  0.58333333  0.575     ]\n",
      "0.488702933028\n",
      "1 loops, best of 1: 613 ms per loop\n"
     ]
    },
    {
     "name": "stderr",
     "output_type": "stream",
     "text": [
      "/Users/jyhung/anaconda/lib/python2.7/site-packages/sklearn/lda.py:371: UserWarning: Variables are collinear.\n",
      "  warnings.warn(\"Variables are collinear.\")\n",
      "/Users/jyhung/anaconda/lib/python2.7/site-packages/sklearn/lda.py:371: UserWarning: Variables are collinear.\n",
      "  warnings.warn(\"Variables are collinear.\")\n",
      "/Users/jyhung/anaconda/lib/python2.7/site-packages/sklearn/lda.py:371: UserWarning: Variables are collinear.\n",
      "  warnings.warn(\"Variables are collinear.\")\n",
      "/Users/jyhung/anaconda/lib/python2.7/site-packages/sklearn/lda.py:371: UserWarning: Variables are collinear.\n",
      "  warnings.warn(\"Variables are collinear.\")\n",
      "/Users/jyhung/anaconda/lib/python2.7/site-packages/sklearn/lda.py:371: UserWarning: Variables are collinear.\n",
      "  warnings.warn(\"Variables are collinear.\")\n",
      "/Users/jyhung/anaconda/lib/python2.7/site-packages/sklearn/lda.py:371: UserWarning: Variables are collinear.\n",
      "  warnings.warn(\"Variables are collinear.\")\n",
      "/Users/jyhung/anaconda/lib/python2.7/site-packages/sklearn/lda.py:371: UserWarning: Variables are collinear.\n",
      "  warnings.warn(\"Variables are collinear.\")\n",
      "/Users/jyhung/anaconda/lib/python2.7/site-packages/sklearn/lda.py:371: UserWarning: Variables are collinear.\n",
      "  warnings.warn(\"Variables are collinear.\")\n"
     ]
    }
   ],
   "source": [
    "%%timeit -n1 -r1\n",
    "%run /Users/jyhung/Documents/CellProfiler-Analyst/cpa/generalclassifier.py \"lda.LDA()\" /Users/jyhung/work/projects/subpop/analysis/input/HANDTRAINED-B7/make-input-to-random-forest-training-modified.csv\n",
    "print scorePerClass\n",
    "print scorePerClass.mean()"
   ]
  },
  {
   "cell_type": "markdown",
   "metadata": {},
   "source": [
    "# Random Forest"
   ]
  },
  {
   "cell_type": "code",
   "execution_count": 17,
   "metadata": {
    "collapsed": false
   },
   "outputs": [
    {
     "name": "stdout",
     "output_type": "stream",
     "text": [
      "LABEL:  1 halfcircle\n",
      "LABEL:  2 interphase\n",
      "LABEL:  3 metaphase\n",
      "LABEL:  4 earlyprophase\n",
      "LABEL:  5 debris\n",
      "LABEL:  6 nucleolirim\n",
      "LABEL:  7 kidney\n",
      "LABEL:  8 telophase\n",
      "LABEL:  9 blurry\n",
      "LABEL:  10 fragmented\n",
      "LABEL:  11 apoptotic\n",
      "LABEL:  12 multinucleate\n",
      "LABEL:  13 latepro_earlyana\n",
      "LABEL:  14 prophase\n",
      "LABEL:  15 anaphase\n",
      "LABEL:  16 indented\n",
      "LABEL:  17 micronucleus\n",
      "LABEL:  18 holey\n",
      "LABEL:  19 latetelophase\n",
      "LABEL:  20 lines\n",
      "LABEL:  21 monopole\n",
      "LABEL:  22 round\n",
      "LABEL:  23 elongated\n",
      "[ 0.          0.94370522  0.91891892  0.          0.79661017  0.\n",
      "  0.02777778  0.76623377  0.48837209  0.41525424  0.62857143  0.47674419\n",
      "  0.57575758  0.76635514  0.4047619   0.          0.          0.\n",
      "  0.66666667  0.97619048  0.03571429  0.11904762  0.225     ]\n",
      "0.401377455032\n",
      "1 loops, best of 1: 9.38 s per loop\n"
     ]
    }
   ],
   "source": [
    "%%timeit -n1 -r1 #random forest 100\n",
    "%run /Users/jyhung/Documents/CellProfiler-Analyst/cpa/generalclassifier.py \"ensemble.RandomForestClassifier(n_estimators=100)\" /Users/jyhung/work/projects/subpop/analysis/input/HANDTRAINED-B7/make-input-to-random-forest-training-modified.csv\n",
    "print scorePerClass\n",
    "print scorePerClass.mean()"
   ]
  },
  {
   "cell_type": "code",
   "execution_count": 22,
   "metadata": {
    "collapsed": false
   },
   "outputs": [
    {
     "name": "stdout",
     "output_type": "stream",
     "text": [
      "LABEL:  1 halfcircle\n",
      "LABEL:  2 interphase\n",
      "LABEL:  3 metaphase\n",
      "LABEL:  4 earlyprophase\n",
      "LABEL:  5 debris\n",
      "LABEL:  6 nucleolirim\n",
      "LABEL:  7 kidney\n",
      "LABEL:  8 telophase\n",
      "LABEL:  9 blurry\n",
      "LABEL:  10 fragmented\n",
      "LABEL:  11 apoptotic\n",
      "LABEL:  12 multinucleate\n",
      "LABEL:  13 latepro_earlyana\n",
      "LABEL:  14 prophase\n",
      "LABEL:  15 anaphase\n",
      "LABEL:  16 indented\n",
      "LABEL:  17 micronucleus\n",
      "LABEL:  18 holey\n",
      "LABEL:  19 latetelophase\n",
      "LABEL:  20 lines\n",
      "LABEL:  21 monopole\n",
      "LABEL:  22 round\n",
      "LABEL:  23 elongated\n",
      "[ 0.          0.9703173   0.91891892  0.04        0.77966102  0.\n",
      "  0.02777778  0.76623377  0.40310078  0.37288136  0.6         0.36046512\n",
      "  0.54545455  0.74766355  0.35714286  0.          0.          0.\n",
      "  0.57971014  0.97619048  0.10714286  0.11904762  0.2       ]\n",
      "0.385726438106\n",
      "1 loops, best of 1: 7.27 s per loop\n"
     ]
    }
   ],
   "source": [
    "%%timeit -n1 -r1 #random forest 100 class weights auto\n",
    "%run /Users/jyhung/Documents/CellProfiler-Analyst/cpa/generalclassifier.py \"ensemble.RandomForestClassifier(n_estimators=100, class_weight='auto')\" /Users/jyhung/work/projects/subpop/analysis/input/HANDTRAINED-B7/make-input-to-random-forest-training-modified.csv\n",
    "print scorePerClass\n",
    "print scorePerClass.mean()"
   ]
  },
  {
   "cell_type": "code",
   "execution_count": 18,
   "metadata": {
    "collapsed": false
   },
   "outputs": [
    {
     "name": "stdout",
     "output_type": "stream",
     "text": [
      "LABEL:  1 halfcircle\n",
      "LABEL:  2 interphase\n",
      "LABEL:  3 metaphase\n",
      "LABEL:  4 earlyprophase\n",
      "LABEL:  5 debris\n",
      "LABEL:  6 nucleolirim\n",
      "LABEL:  7 kidney\n",
      "LABEL:  8 telophase\n",
      "LABEL:  9 blurry\n",
      "LABEL:  10 fragmented\n",
      "LABEL:  11 apoptotic\n",
      "LABEL:  12 multinucleate\n",
      "LABEL:  13 latepro_earlyana\n",
      "LABEL:  14 prophase\n",
      "LABEL:  15 anaphase\n",
      "LABEL:  16 indented\n",
      "LABEL:  17 micronucleus\n",
      "LABEL:  18 holey\n",
      "LABEL:  19 latetelophase\n",
      "LABEL:  20 lines\n",
      "LABEL:  21 monopole\n",
      "LABEL:  22 round\n",
      "LABEL:  23 elongated\n",
      "[ 0.          0.95087001  0.91891892  0.          0.81355932  0.\n",
      "  0.02777778  0.76623377  0.51937984  0.45762712  0.62857143  0.46511628\n",
      "  0.60606061  0.78504673  0.35714286  0.          0.          0.          0.5942029\n",
      "  0.97619048  0.07142857  0.10714286  0.25      ]\n",
      "0.404142150519\n",
      "1 loops, best of 1: 1min 23s per loop\n"
     ]
    }
   ],
   "source": [
    "%%timeit -n1 -r1 #random forest 1000\n",
    "%run /Users/jyhung/Documents/CellProfiler-Analyst/cpa/generalclassifier.py \"ensemble.RandomForestClassifier(n_estimators=1000)\" /Users/jyhung/work/projects/subpop/analysis/input/HANDTRAINED-B7/make-input-to-random-forest-training-modified.csv\n",
    "print scorePerClass\n",
    "print scorePerClass.mean()"
   ]
  },
  {
   "cell_type": "markdown",
   "metadata": {},
   "source": [
    "# Naive Bayes"
   ]
  },
  {
   "cell_type": "code",
   "execution_count": 19,
   "metadata": {
    "collapsed": false
   },
   "outputs": [
    {
     "name": "stdout",
     "output_type": "stream",
     "text": [
      "LABEL:  1 halfcircle\n",
      "LABEL:  2 interphase\n",
      "LABEL:  3 metaphase\n",
      "LABEL:  4 earlyprophase\n",
      "LABEL:  5 debris\n",
      "LABEL:  6 nucleolirim\n",
      "LABEL:  7 kidney\n",
      "LABEL:  8 telophase\n",
      "LABEL:  9 blurry\n",
      "LABEL:  10 fragmented\n",
      "LABEL:  11 apoptotic\n",
      "LABEL:  12 multinucleate\n",
      "LABEL:  13 latepro_earlyana\n",
      "LABEL:  14 prophase\n",
      "LABEL:  15 anaphase\n",
      "LABEL:  16 indented\n",
      "LABEL:  17 micronucleus\n",
      "LABEL:  18 holey\n",
      "LABEL:  19 latetelophase\n",
      "LABEL:  20 lines\n",
      "LABEL:  21 monopole\n",
      "LABEL:  22 round\n",
      "LABEL:  23 elongated\n",
      "[ 0.38235294  0.14022518  0.83783784  0.24        0.69491525  0.40425532\n",
      "  0.36111111  0.66233766  0.34108527  0.30508475  0.54285714  0.59302326\n",
      "  0.75757576  0.71028037  0.4047619   0.15        0.11290323  0.48780488\n",
      "  0.69565217  0.92857143  0.42857143  0.78571429  0.575     ]\n",
      "0.501822659892\n",
      "1 loops, best of 1: 368 ms per loop\n"
     ]
    }
   ],
   "source": [
    "%%timeit -n1 -r1 #naive bayes\n",
    "%run /Users/jyhung/Documents/CellProfiler-Analyst/cpa/generalclassifier.py \"naive_bayes.GaussianNB()\" /Users/jyhung/work/projects/subpop/analysis/input/HANDTRAINED-B7/make-input-to-random-forest-training-modified.csv\n",
    "print scorePerClass\n",
    "print scorePerClass.mean()"
   ]
  },
  {
   "cell_type": "markdown",
   "metadata": {},
   "source": [
    "# Logistic Regression"
   ]
  },
  {
   "cell_type": "code",
   "execution_count": 24,
   "metadata": {
    "collapsed": false
   },
   "outputs": [
    {
     "name": "stdout",
     "output_type": "stream",
     "text": [
      "LABEL:  1 halfcircle\n",
      "LABEL:  2 interphase\n",
      "LABEL:  3 metaphase\n",
      "LABEL:  4 earlyprophase\n",
      "LABEL:  5 debris\n",
      "LABEL:  6 nucleolirim\n",
      "LABEL:  7 kidney\n",
      "LABEL:  8 telophase\n",
      "LABEL:  9 blurry\n",
      "LABEL:  10 fragmented\n",
      "LABEL:  11 apoptotic\n",
      "LABEL:  12 multinucleate\n",
      "LABEL:  13 latepro_earlyana\n",
      "LABEL:  14 prophase\n",
      "LABEL:  15 anaphase\n",
      "LABEL:  16 indented\n",
      "LABEL:  17 micronucleus\n",
      "LABEL:  18 holey\n",
      "LABEL:  19 latetelophase\n",
      "LABEL:  20 lines\n",
      "LABEL:  21 monopole\n",
      "LABEL:  22 round\n",
      "LABEL:  23 elongated\n",
      "[ 0.11764706  0.91914023  0.75675676  0.24        0.74576271  0.0212766\n",
      "  0.33333333  0.58441558  0.5503876   0.48305085  0.58571429  0.5\n",
      "  0.48484848  0.82242991  0.33333333  0.          0.11290323  0.09756098\n",
      "  0.57971014  0.97619048  0.57142857  0.23809524  0.5       ]\n",
      "0.45886892839\n",
      "1 loops, best of 1: 12.6 s per loop\n"
     ]
    }
   ],
   "source": [
    "%%timeit -n1 -r1 #logistic regression 1 vs all\n",
    "%run /Users/jyhung/Documents/CellProfiler-Analyst/cpa/generalclassifier.py \"linear_model.LogisticRegression(penalty='l2',solver='liblinear', multi_class='ovr', class_weight=None)\" /Users/jyhung/work/projects/subpop/analysis/input/HANDTRAINED-B7/make-input-to-random-forest-training-modified.csv\n",
    "print scorePerClass\n",
    "print scorePerClass.mean()"
   ]
  },
  {
   "cell_type": "code",
   "execution_count": 25,
   "metadata": {
    "collapsed": false
   },
   "outputs": [
    {
     "name": "stdout",
     "output_type": "stream",
     "text": [
      "LABEL:  1 halfcircle\n",
      "LABEL:  2 interphase\n",
      "LABEL:  3 metaphase\n",
      "LABEL:  4 earlyprophase\n",
      "LABEL:  5 debris\n",
      "LABEL:  6 nucleolirim\n",
      "LABEL:  7 kidney\n",
      "LABEL:  8 telophase\n",
      "LABEL:  9 blurry\n",
      "LABEL:  10 fragmented\n",
      "LABEL:  11 apoptotic\n",
      "LABEL:  12 multinucleate\n",
      "LABEL:  13 latepro_earlyana\n",
      "LABEL:  14 prophase\n",
      "LABEL:  15 anaphase\n",
      "LABEL:  16 indented\n",
      "LABEL:  17 micronucleus\n",
      "LABEL:  18 holey\n",
      "LABEL:  19 latetelophase\n",
      "LABEL:  20 lines\n",
      "LABEL:  21 monopole\n",
      "LABEL:  22 round\n",
      "LABEL:  23 elongated\n",
      "[ 0.29411765  0.57932446  0.81081081  0.48        0.76271186  0.25531915\n",
      "  0.44444444  0.55844156  0.56589147  0.44915254  0.55714286  0.54651163\n",
      "  0.54545455  0.75700935  0.45238095  0.1         0.14516129  0.26829268\n",
      "  0.66666667  1.          0.57142857  0.64285714  0.625     ]\n",
      "0.525135636298\n",
      "1 loops, best of 1: 11.9 s per loop\n"
     ]
    }
   ],
   "source": [
    "%%timeit -n1 -r1 #logistic regression 1 vs all class weight auto\n",
    "%run /Users/jyhung/Documents/CellProfiler-Analyst/cpa/generalclassifier.py \"linear_model.LogisticRegression(penalty='l2',solver='liblinear', multi_class='ovr', class_weight='auto')\" /Users/jyhung/work/projects/subpop/analysis/input/HANDTRAINED-B7/make-input-to-random-forest-training-modified.csv\n",
    "print scorePerClass\n",
    "print scorePerClass.mean()"
   ]
  },
  {
   "cell_type": "code",
   "execution_count": 35,
   "metadata": {
    "collapsed": false
   },
   "outputs": [
    {
     "name": "stdout",
     "output_type": "stream",
     "text": [
      "LABEL:  1 halfcircle\n",
      "LABEL:  2 interphase\n",
      "LABEL:  3 metaphase\n",
      "LABEL:  4 earlyprophase\n",
      "LABEL:  5 debris\n",
      "LABEL:  6 nucleolirim\n",
      "LABEL:  7 kidney\n",
      "LABEL:  8 telophase\n",
      "LABEL:  9 blurry\n",
      "LABEL:  10 fragmented\n",
      "LABEL:  11 apoptotic\n",
      "LABEL:  12 multinucleate\n",
      "LABEL:  13 latepro_earlyana\n",
      "LABEL:  14 prophase\n",
      "LABEL:  15 anaphase\n",
      "LABEL:  16 indented\n",
      "LABEL:  17 micronucleus\n",
      "LABEL:  18 holey\n",
      "LABEL:  19 latetelophase\n",
      "LABEL:  20 lines\n",
      "LABEL:  21 monopole\n",
      "LABEL:  22 round\n",
      "LABEL:  23 elongated\n",
      "[ 0.41176471  0.34390993  0.75675676  0.48        0.76271186  0.42553191\n",
      "  0.41666667  0.58441558  0.5503876   0.39830508  0.51428571  0.58139535\n",
      "  0.54545455  0.6728972   0.57142857  0.2         0.20967742  0.3902439\n",
      "  0.60869565  0.97619048  0.60714286  0.66666667  0.55      ]\n",
      "0.531501237098\n",
      "1 loops, best of 1: 1.78 s per loop\n"
     ]
    }
   ],
   "source": [
    "%%timeit -n1 -r1 #logistic regression multinomial, lbfgs solver, class weight auto\n",
    "%run /Users/jyhung/Documents/CellProfiler-Analyst/cpa/generalclassifier.py \"linear_model.LogisticRegression(penalty='l2',solver='lbfgs', multi_class='multinomial', class_weight='auto')\" /Users/jyhung/work/projects/subpop/analysis/input/HANDTRAINED-B7/make-input-to-random-forest-training-modified.csv\n",
    "print scorePerClass\n",
    "print scorePerClass.mean()"
   ]
  },
  {
   "cell_type": "code",
   "execution_count": 40,
   "metadata": {
    "collapsed": false
   },
   "outputs": [
    {
     "name": "stdout",
     "output_type": "stream",
     "text": [
      "LABEL:  1 halfcircle\n",
      "LABEL:  2 interphase\n",
      "LABEL:  3 metaphase\n",
      "LABEL:  4 earlyprophase\n",
      "LABEL:  5 debris\n",
      "LABEL:  6 nucleolirim\n",
      "LABEL:  7 kidney\n",
      "LABEL:  8 telophase\n",
      "LABEL:  9 blurry\n",
      "LABEL:  10 fragmented\n",
      "LABEL:  11 apoptotic\n",
      "LABEL:  12 multinucleate\n",
      "LABEL:  13 latepro_earlyana\n",
      "LABEL:  14 prophase\n",
      "LABEL:  15 anaphase\n",
      "LABEL:  16 indented\n",
      "LABEL:  17 micronucleus\n",
      "LABEL:  18 holey\n",
      "LABEL:  19 latetelophase\n",
      "LABEL:  20 lines\n",
      "LABEL:  21 monopole\n",
      "LABEL:  22 round\n",
      "LABEL:  23 elongated\n",
      "[ 0.38235294  0.60900716  0.83783784  0.48        0.74576271  0.19148936\n",
      "  0.44444444  0.61038961  0.57364341  0.45762712  0.58571429  0.52325581\n",
      "  0.54545455  0.75700935  0.52380952  0.1         0.16129032  0.26829268\n",
      "  0.65217391  1.          0.60714286  0.6547619   0.65      ]\n",
      "0.537454773778\n",
      "1 loops, best of 1: 31.1 s per loop\n"
     ]
    }
   ],
   "source": [
    "%%timeit -n1 -r1 #logistic regression 1 vs all, liblinear solver, class weight auto, l1 penalty\n",
    "%run /Users/jyhung/Documents/CellProfiler-Analyst/cpa/generalclassifier.py \"linear_model.LogisticRegression(penalty='l1',solver='liblinear', multi_class='ovr', class_weight='auto')\" /Users/jyhung/work/projects/subpop/analysis/input/HANDTRAINED-B7/make-input-to-random-forest-training-modified.csv\n",
    "print scorePerClass\n",
    "print scorePerClass.mean()"
   ]
  },
  {
   "cell_type": "code",
   "execution_count": 1,
   "metadata": {
    "collapsed": false
   },
   "outputs": [
    {
     "name": "stdout",
     "output_type": "stream",
     "text": [
      "LABEL:  1 halfcircle\n",
      "LABEL:  2 interphase\n",
      "LABEL:  3 metaphase\n",
      "LABEL:  4 earlyprophase\n",
      "LABEL:  5 debris\n",
      "LABEL:  6 nucleolirim\n",
      "LABEL:  7 kidney\n",
      "LABEL:  8 telophase\n",
      "LABEL:  9 blurry\n",
      "LABEL:  10 fragmented\n",
      "LABEL:  11 apoptotic\n",
      "LABEL:  12 multinucleate\n",
      "LABEL:  13 latepro_earlyana\n",
      "LABEL:  14 prophase\n",
      "LABEL:  15 anaphase\n",
      "LABEL:  16 indented\n",
      "LABEL:  17 micronucleus\n",
      "LABEL:  18 holey\n",
      "LABEL:  19 latetelophase\n",
      "LABEL:  20 lines\n",
      "LABEL:  21 monopole\n",
      "LABEL:  22 round\n",
      "LABEL:  23 elongated\n",
      "[ 0.29411765  0.72262027  0.91891892  0.44        0.79661017  0.\n",
      "  0.27777778  0.63636364  0.58914729  0.40677966  0.51428571  0.51162791\n",
      "  0.6969697   0.59813084  0.52380952  0.          0.          0.12195122\n",
      "  0.57971014  1.          0.78571429  0.57142857  0.725     ]\n",
      "0.509172316014\n",
      "1 loops, best of 1: 2h 56min 17s per loop\n"
     ]
    },
    {
     "name": "stderr",
     "output_type": "stream",
     "text": [
      "/Users/jyhung/anaconda/lib/python2.7/site-packages/sklearn/grid_search.py:505: UserWarning: Multiprocessing-backed parallel loops cannot be nested, setting n_jobs=1\n",
      "  for parameters in parameter_iterable\n",
      "/Users/jyhung/anaconda/lib/python2.7/site-packages/sklearn/grid_search.py:505: UserWarning: Multiprocessing-backed parallel loops cannot be nested, setting n_jobs=1\n",
      "  for parameters in parameter_iterable\n",
      "/Users/jyhung/anaconda/lib/python2.7/site-packages/sklearn/grid_search.py:505: UserWarning: Multiprocessing-backed parallel loops cannot be nested, setting n_jobs=1\n",
      "  for parameters in parameter_iterable\n",
      "/Users/jyhung/anaconda/lib/python2.7/site-packages/sklearn/grid_search.py:505: UserWarning: Multiprocessing-backed parallel loops cannot be nested, setting n_jobs=1\n",
      "  for parameters in parameter_iterable\n",
      "/Users/jyhung/anaconda/lib/python2.7/site-packages/sklearn/grid_search.py:505: UserWarning: Multiprocessing-backed parallel loops cannot be nested, setting n_jobs=1\n",
      "  for parameters in parameter_iterable\n",
      "/Users/jyhung/anaconda/lib/python2.7/site-packages/sklearn/grid_search.py:505: UserWarning: Multiprocessing-backed parallel loops cannot be nested, setting n_jobs=1\n",
      "  for parameters in parameter_iterable\n",
      "/Users/jyhung/anaconda/lib/python2.7/site-packages/sklearn/grid_search.py:505: UserWarning: Multiprocessing-backed parallel loops cannot be nested, setting n_jobs=1\n",
      "  for parameters in parameter_iterable\n",
      "/Users/jyhung/anaconda/lib/python2.7/site-packages/sklearn/grid_search.py:505: UserWarning: Multiprocessing-backed parallel loops cannot be nested, setting n_jobs=1\n",
      "  for parameters in parameter_iterable\n"
     ]
    }
   ],
   "source": [
    "%%timeit -n1 -r1 #logistic regression 1 vs all, liblinear solver, class weight auto, l1 penalty, parameter search\n",
    "%run /Users/jyhung/Documents/CellProfiler-Analyst/cpa/generalclassifier.py \"grid_search.GridSearchCV(linear_model.LogisticRegression(penalty='l1',solver='liblinear', multi_class='ovr', class_weight='auto'),param_grid={'C': [2**-5, 2**-4, 2**-3, 2**-2, 2**-1, 2**0, 2**1, 2**2, 2**3, 2**4, 2**5, 2**6]},cv=5,n_jobs=-1)\" /Users/jyhung/work/projects/subpop/analysis/input/HANDTRAINED-B7/make-input-to-random-forest-training-modified.csv\n",
    "print scorePerClass\n",
    "print scorePerClass.mean()"
   ]
  },
  {
   "cell_type": "code",
   "execution_count": 42,
   "metadata": {
    "collapsed": false
   },
   "outputs": [
    {
     "name": "stdout",
     "output_type": "stream",
     "text": [
      "LABEL:  1 halfcircle\n",
      "LABEL:  2 interphase\n",
      "LABEL:  3 metaphase\n",
      "LABEL:  4 earlyprophase\n",
      "LABEL:  5 debris\n",
      "LABEL:  6 nucleolirim\n",
      "LABEL:  7 kidney\n",
      "LABEL:  8 telophase\n",
      "LABEL:  9 blurry\n",
      "LABEL:  10 fragmented\n",
      "LABEL:  11 apoptotic\n",
      "LABEL:  12 multinucleate\n",
      "LABEL:  13 latepro_earlyana\n",
      "LABEL:  14 prophase\n",
      "LABEL:  15 anaphase\n",
      "LABEL:  16 indented\n",
      "LABEL:  17 micronucleus\n",
      "LABEL:  18 holey\n",
      "LABEL:  19 latetelophase\n",
      "LABEL:  20 lines\n",
      "LABEL:  21 monopole\n",
      "LABEL:  22 round\n",
      "LABEL:  23 elongated\n",
      "[ 0.41176471  0.34390993  0.75675676  0.48        0.76271186  0.42553191\n",
      "  0.41666667  0.58441558  0.5503876   0.39830508  0.51428571  0.58139535\n",
      "  0.54545455  0.6728972   0.57142857  0.2         0.20967742  0.3902439\n",
      "  0.60869565  0.97619048  0.60714286  0.66666667  0.55      ]\n",
      "0.531501237098\n",
      "1 loops, best of 1: 1.89 s per loop\n"
     ]
    }
   ],
   "source": [
    "%%timeit -n1 -r1 #logistic regression multinomial, lbfgs, class weight auto, l1 penalty\n",
    "%run /Users/jyhung/Documents/CellProfiler-Analyst/cpa/generalclassifier.py \"linear_model.LogisticRegression(penalty='l1',solver='lbfgs', multi_class='multinomial', class_weight='auto')\" /Users/jyhung/work/projects/subpop/analysis/input/HANDTRAINED-B7/make-input-to-random-forest-training-modified.csv\n",
    "print scorePerClass\n",
    "print scorePerClass.mean()"
   ]
  },
  {
   "cell_type": "markdown",
   "metadata": {},
   "source": [
    "# K Nearest Neighbor"
   ]
  },
  {
   "cell_type": "code",
   "execution_count": 31,
   "metadata": {
    "collapsed": false
   },
   "outputs": [
    {
     "name": "stdout",
     "output_type": "stream",
     "text": [
      "LABEL:  1 halfcircle\n",
      "LABEL:  2 interphase\n",
      "LABEL:  3 metaphase\n",
      "LABEL:  4 earlyprophase\n",
      "LABEL:  5 debris\n",
      "LABEL:  6 nucleolirim\n",
      "LABEL:  7 kidney\n",
      "LABEL:  8 telophase\n",
      "LABEL:  9 blurry\n",
      "LABEL:  10 fragmented\n",
      "LABEL:  11 apoptotic\n",
      "LABEL:  12 multinucleate\n",
      "LABEL:  13 latepro_earlyana\n",
      "LABEL:  14 prophase\n",
      "LABEL:  15 anaphase\n",
      "LABEL:  16 indented\n",
      "LABEL:  17 micronucleus\n",
      "LABEL:  18 holey\n",
      "LABEL:  19 latetelophase\n",
      "LABEL:  20 lines\n",
      "LABEL:  21 monopole\n",
      "LABEL:  22 round\n",
      "LABEL:  23 elongated\n",
      "[ 0.05882353  0.95189355  0.54054054  0.04        0.6440678   0.\n",
      "  0.08333333  0.7012987   0.25581395  0.29661017  0.37142857  0.30232558\n",
      "  0.33333333  0.60747664  0.26190476  0.          0.0483871   0.02439024\n",
      "  0.50724638  1.          0.14285714  0.10714286  0.125     ]\n",
      "0.32190757291\n",
      "1 loops, best of 1: 567 ms per loop\n"
     ]
    }
   ],
   "source": [
    "%%timeit -n1 -r1 #k nearest neighbors n_neighbors=5\n",
    "%run /Users/jyhung/Documents/CellProfiler-Analyst/cpa/generalclassifier.py \"neighbors.KNeighborsClassifier(n_neighbors=5, weights='uniform', algorithm='auto')\" /Users/jyhung/work/projects/subpop/analysis/input/HANDTRAINED-B7/make-input-to-random-forest-training-modified.csv\n",
    "print scorePerClass\n",
    "print scorePerClass.mean()"
   ]
  },
  {
   "cell_type": "code",
   "execution_count": 32,
   "metadata": {
    "collapsed": false
   },
   "outputs": [
    {
     "name": "stdout",
     "output_type": "stream",
     "text": [
      "LABEL:  1 halfcircle\n",
      "LABEL:  2 interphase\n",
      "LABEL:  3 metaphase\n",
      "LABEL:  4 earlyprophase\n",
      "LABEL:  5 debris\n",
      "LABEL:  6 nucleolirim\n",
      "LABEL:  7 kidney\n",
      "LABEL:  8 telophase\n",
      "LABEL:  9 blurry\n",
      "LABEL:  10 fragmented\n",
      "LABEL:  11 apoptotic\n",
      "LABEL:  12 multinucleate\n",
      "LABEL:  13 latepro_earlyana\n",
      "LABEL:  14 prophase\n",
      "LABEL:  15 anaphase\n",
      "LABEL:  16 indented\n",
      "LABEL:  17 micronucleus\n",
      "LABEL:  18 holey\n",
      "LABEL:  19 latetelophase\n",
      "LABEL:  20 lines\n",
      "LABEL:  21 monopole\n",
      "LABEL:  22 round\n",
      "LABEL:  23 elongated\n",
      "[ 0.02941176  0.89764585  0.62162162  0.08        0.69491525  0.\n",
      "  0.05555556  0.62337662  0.24031008  0.30508475  0.44285714  0.37209302\n",
      "  0.39393939  0.58878505  0.42857143  0.          0.09677419  0.02439024\n",
      "  0.56521739  1.          0.28571429  0.16666667  0.3       ]\n",
      "0.357083926692\n",
      "1 loops, best of 1: 567 ms per loop\n"
     ]
    }
   ],
   "source": [
    "%%timeit -n1 -r1 #k nearest neighbors n_neighbors=5\n",
    "%run /Users/jyhung/Documents/CellProfiler-Analyst/cpa/generalclassifier.py \"neighbors.KNeighborsClassifier(n_neighbors=5, weights='distance', algorithm='auto')\" /Users/jyhung/work/projects/subpop/analysis/input/HANDTRAINED-B7/make-input-to-random-forest-training-modified.csv\n",
    "print scorePerClass\n",
    "print scorePerClass.mean()"
   ]
  },
  {
   "cell_type": "code",
   "execution_count": null,
   "metadata": {
    "collapsed": true
   },
   "outputs": [],
   "source": []
  }
 ],
 "metadata": {
  "kernelspec": {
   "display_name": "Python 2",
   "language": "python",
   "name": "python2"
  },
  "language_info": {
   "codemirror_mode": {
    "name": "ipython",
    "version": 2
   },
   "file_extension": ".py",
   "mimetype": "text/x-python",
   "name": "python",
   "nbconvert_exporter": "python",
   "pygments_lexer": "ipython2",
   "version": "2.7.10"
  }
 },
 "nbformat": 4,
 "nbformat_minor": 0
}
